{
 "cells": [
  {
   "cell_type": "code",
   "execution_count": 1,
   "id": "84ef23cc-84ca-446d-a0fb-678d15185a87",
   "metadata": {},
   "outputs": [],
   "source": [
    "class TreeNode:\n",
    "    def __init__(self,key,value):\n",
    "        self.key = key\n",
    "        self.value = value\n",
    "        self.left = None\n",
    "        self.right = None\n",
    "\n",
    "class BinarySearchTree:\n",
    "    def __init__(self):\n",
    "        self.root = None\n",
    "\n",
    "    def insert(self,key,value):\n",
    "        self.root = self._insert(self.root,key,value)\n",
    "\n",
    "    def _insert(self,node,key,value):\n",
    "        if node is None:\n",
    "            return TreeNode(key,value)\n",
    "        if key < node.key:\n",
    "            node.left = self._insert(node.left,key,value)\n",
    "        else:\n",
    "            node.right = self._insert(node.right,key,value)\n",
    "\n",
    "        return node\n",
    "\n",
    "    def search(self,key):\n",
    "        return self._search(self.root,key)\n",
    "\n",
    "    def _search(self,node,key):\n",
    "        if node is None:\n",
    "            return 'Name not found'\n",
    "            \n",
    "        if node.key == key:\n",
    "            return node.value\n",
    "        elif node.key > key:\n",
    "            return self._search(node.left,key)\n",
    "        else:\n",
    "            return self._search(node.right,key)\n",
    "\n",
    "    def inorder_traversal(self):\n",
    "        result = {}\n",
    "        def inorder(node):\n",
    "            if node:\n",
    "                inorder(node.left)\n",
    "                result[node.key] = node.value\n",
    "                inorder(node.right)\n",
    "        inorder(self.root)\n",
    "        for key,value in result.items():\n",
    "            print(f'{key} : {value}')\n",
    "\n",
    "    def delete(self,key):\n",
    "        self.root = self._delete(self.root,key)\n",
    "\n",
    "    def _delete(self,node,key):\n",
    "        if node is None:\n",
    "            return None\n",
    "\n",
    "        if node.key > key:\n",
    "            node.left = self._delete(node.left,key)\n",
    "        elif node.key < key: \n",
    "            node.right = self._delete(node.right,key)\n",
    "        else:\n",
    "            if node.left is None and node.right is None:\n",
    "                return None\n",
    "            elif node.left is None:\n",
    "                return node.right\n",
    "            elif node.right is None:\n",
    "                return node.left\n",
    "            else:\n",
    "                renew = self._min_node(node.right)\n",
    "                node.key, node.value = renew.key,renew.value\n",
    "                node.right = self._delete(node.right,renew.key)\n",
    "        return node\n",
    "\n",
    "    def _min_node(self,node):\n",
    "        now = node\n",
    "        while now.left is not None:\n",
    "            now = now.left\n",
    "        return now\n",
    "                \n"
   ]
  },
  {
   "cell_type": "code",
   "execution_count": 2,
   "id": "37fc0086-4d4f-4063-94c2-a6dbc6e9cf7b",
   "metadata": {},
   "outputs": [],
   "source": [
    "bst = BinarySearchTree()"
   ]
  },
  {
   "cell_type": "code",
   "execution_count": 3,
   "id": "45a115bf-a78d-4327-8c79-dd0d0e7e5dd8",
   "metadata": {},
   "outputs": [],
   "source": [
    "bst.insert(\"Alice\",\"555-1234\")\n",
    "bst.insert(\"Bob\",\"555-2345\")\n",
    "bst.insert(\"Charlie\",\"555-3456\")"
   ]
  },
  {
   "cell_type": "code",
   "execution_count": 4,
   "id": "19a95ebf-c013-4b1e-a508-0e9c5c436eab",
   "metadata": {},
   "outputs": [
    {
     "name": "stdout",
     "output_type": "stream",
     "text": [
      "555-1234\n",
      "Name not found\n"
     ]
    }
   ],
   "source": [
    "print(bst.search('Alice'))\n",
    "print(bst.search('David'))"
   ]
  },
  {
   "cell_type": "code",
   "execution_count": 5,
   "id": "c2b2a5ad-5718-4164-bcdd-d2f6bee36f1f",
   "metadata": {},
   "outputs": [
    {
     "name": "stdout",
     "output_type": "stream",
     "text": [
      "Alice : 555-1234\n",
      "Bob : 555-2345\n",
      "Charlie : 555-3456\n"
     ]
    }
   ],
   "source": [
    "bst.inorder_traversal()"
   ]
  },
  {
   "cell_type": "code",
   "execution_count": 6,
   "id": "6a192164-d690-48c5-85c5-434f036e2a08",
   "metadata": {},
   "outputs": [],
   "source": [
    "bst.delete('Alice')"
   ]
  },
  {
   "cell_type": "code",
   "execution_count": 7,
   "id": "bd029f3c-cc96-47a6-a547-72fec748263e",
   "metadata": {},
   "outputs": [
    {
     "name": "stdout",
     "output_type": "stream",
     "text": [
      "Bob : 555-2345\n",
      "Charlie : 555-3456\n"
     ]
    }
   ],
   "source": [
    "bst.inorder_traversal()"
   ]
  },
  {
   "cell_type": "code",
   "execution_count": 8,
   "id": "c37451d5-0927-488d-94f0-6cdd3e3a5f3d",
   "metadata": {},
   "outputs": [],
   "source": [
    "bst1 = BinarySearchTree()            "
   ]
  },
  {
   "cell_type": "code",
   "execution_count": 9,
   "id": "161fd385-75ee-438d-99be-bbdc1a450071",
   "metadata": {},
   "outputs": [],
   "source": [
    "bst1.insert('Mark','555-1111')\n",
    "bst1.insert(\"Bob\",\"555-2345\")\n",
    "bst1.insert(\"Alice\",\"555-1234\")\n",
    "bst1.insert(\"Charlie\",\"555-3456\")"
   ]
  },
  {
   "cell_type": "code",
   "execution_count": 10,
   "id": "dcdbbed1-10d0-4d00-8d90-45ca1d8dc8a9",
   "metadata": {},
   "outputs": [
    {
     "name": "stdout",
     "output_type": "stream",
     "text": [
      "Alice : 555-1234\n",
      "Bob : 555-2345\n",
      "Charlie : 555-3456\n",
      "Mark : 555-1111\n"
     ]
    }
   ],
   "source": [
    "bst1.inorder_traversal()"
   ]
  },
  {
   "cell_type": "code",
   "execution_count": null,
   "id": "9ff55622-59ea-4a4e-bc6a-26815000a03c",
   "metadata": {},
   "outputs": [],
   "source": []
  }
 ],
 "metadata": {
  "kernelspec": {
   "display_name": "Python [conda env:base] *",
   "language": "python",
   "name": "conda-base-py"
  },
  "language_info": {
   "codemirror_mode": {
    "name": "ipython",
    "version": 3
   },
   "file_extension": ".py",
   "mimetype": "text/x-python",
   "name": "python",
   "nbconvert_exporter": "python",
   "pygments_lexer": "ipython3",
   "version": "3.13.5"
  }
 },
 "nbformat": 4,
 "nbformat_minor": 5
}
