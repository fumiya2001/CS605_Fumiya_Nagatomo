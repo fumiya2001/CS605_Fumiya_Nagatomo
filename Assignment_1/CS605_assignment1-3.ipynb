{
 "cells": [
  {
   "cell_type": "code",
   "execution_count": 5,
   "id": "543e6fa9-1dcb-4046-8b8c-bc21d38324d4",
   "metadata": {},
   "outputs": [],
   "source": [
    "def Simple_Calculator():\n",
    "    answer = 'yes'\n",
    "    while answer=='yes':\n",
    "        print('Welcome to the Simple Calculator\\n')\n",
    "        number_1 = int(input('Enter the first number:'))\n",
    "        number_2 = int(input('Enter the second number:'))\n",
    "    \n",
    "        print('Select an operation:')\n",
    "        print('1. Addition')\n",
    "        print('2. Subtraction')\n",
    "        print('3. Multiplication')\n",
    "        print('4. Division\\n')\n",
    "    \n",
    "        operation_number = int(input('Enter the operation number'))\n",
    "        print('\\n')\n",
    "    \n",
    "        if operation_number == 1:\n",
    "            result = number_1+number_2\n",
    "            print('Result: {}+{}={}'.format(number_1,number_2,result))\n",
    "        elif operation_number == 2:\n",
    "            result = number_1-number_2\n",
    "            print('Result: {}-{}={}'.format(number_1,number_2,result))\n",
    "        elif operation_number == 3:\n",
    "            result = number_1*number_2\n",
    "            print('Result: {}*{}={}'.format(number_1,number_2,result))\n",
    "        elif operation_number == 4:\n",
    "            if number_2 == 0:\n",
    "                print\n",
    "            result = number_1/number_2\n",
    "            print('Result: {}/{}={}'.format(number_1,number_2,result))\n",
    "    \n",
    "        answer = input('\\n Do you want perform another calculation?(yes/no):')\n",
    "        print('\\n')\n",
    "        if answer =='no':\n",
    "            print('Goodbye')\n",
    "            break"
   ]
  },
  {
   "cell_type": "code",
   "execution_count": 6,
   "id": "3cdca7a7-0f06-45c9-84a8-28cc61f76d2c",
   "metadata": {},
   "outputs": [
    {
     "name": "stdout",
     "output_type": "stream",
     "text": [
      "Welcome to the Simple Calculator\n",
      "\n"
     ]
    },
    {
     "name": "stdin",
     "output_type": "stream",
     "text": [
      "Enter the first number: 2\n",
      "Enter the second number: 0\n"
     ]
    },
    {
     "name": "stdout",
     "output_type": "stream",
     "text": [
      "Select an operation:\n",
      "1. Addition\n",
      "2. Subtraction\n",
      "3. Multiplication\n",
      "4. Division\n",
      "\n"
     ]
    },
    {
     "name": "stdin",
     "output_type": "stream",
     "text": [
      "Enter the operation number 4\n"
     ]
    },
    {
     "name": "stdout",
     "output_type": "stream",
     "text": [
      "\n",
      "\n"
     ]
    },
    {
     "ename": "ZeroDivisionError",
     "evalue": "division by zero",
     "output_type": "error",
     "traceback": [
      "\u001b[0;31m---------------------------------------------------------------------------\u001b[0m",
      "\u001b[0;31mZeroDivisionError\u001b[0m                         Traceback (most recent call last)",
      "Cell \u001b[0;32mIn[6], line 1\u001b[0m\n\u001b[0;32m----> 1\u001b[0m sample_answer \u001b[38;5;241m=\u001b[39m Simple_Calculator()\n",
      "Cell \u001b[0;32mIn[5], line 27\u001b[0m, in \u001b[0;36mSimple_Calculator\u001b[0;34m()\u001b[0m\n\u001b[1;32m     25\u001b[0m     \u001b[38;5;28mprint\u001b[39m(\u001b[38;5;124m'\u001b[39m\u001b[38;5;124mResult: \u001b[39m\u001b[38;5;132;01m{}\u001b[39;00m\u001b[38;5;124m*\u001b[39m\u001b[38;5;132;01m{}\u001b[39;00m\u001b[38;5;124m=\u001b[39m\u001b[38;5;132;01m{}\u001b[39;00m\u001b[38;5;124m'\u001b[39m\u001b[38;5;241m.\u001b[39mformat(number_1,number_2,result))\n\u001b[1;32m     26\u001b[0m \u001b[38;5;28;01melif\u001b[39;00m operation_number \u001b[38;5;241m==\u001b[39m \u001b[38;5;241m4\u001b[39m:\n\u001b[0;32m---> 27\u001b[0m     result \u001b[38;5;241m=\u001b[39m number_1\u001b[38;5;241m/\u001b[39mnumber_2\n\u001b[1;32m     28\u001b[0m     \u001b[38;5;28mprint\u001b[39m(\u001b[38;5;124m'\u001b[39m\u001b[38;5;124mResult: \u001b[39m\u001b[38;5;132;01m{}\u001b[39;00m\u001b[38;5;124m/\u001b[39m\u001b[38;5;132;01m{}\u001b[39;00m\u001b[38;5;124m=\u001b[39m\u001b[38;5;132;01m{}\u001b[39;00m\u001b[38;5;124m'\u001b[39m\u001b[38;5;241m.\u001b[39mformat(number_1,number_2,result))\n\u001b[1;32m     30\u001b[0m answer \u001b[38;5;241m=\u001b[39m \u001b[38;5;28minput\u001b[39m(\u001b[38;5;124m'\u001b[39m\u001b[38;5;130;01m\\n\u001b[39;00m\u001b[38;5;124m Do you want perform another calculation?(yes/no):\u001b[39m\u001b[38;5;124m'\u001b[39m)\n",
      "\u001b[0;31mZeroDivisionError\u001b[0m: division by zero"
     ]
    }
   ],
   "source": [
    "sample_answer = Simple_Calculator()\n"
   ]
  },
  {
   "cell_type": "code",
   "execution_count": null,
   "id": "e993a62f-82b5-4211-97ed-399421e9bb78",
   "metadata": {},
   "outputs": [],
   "source": []
  }
 ],
 "metadata": {
  "kernelspec": {
   "display_name": "Python [conda env:base] *",
   "language": "python",
   "name": "conda-base-py"
  },
  "language_info": {
   "codemirror_mode": {
    "name": "ipython",
    "version": 3
   },
   "file_extension": ".py",
   "mimetype": "text/x-python",
   "name": "python",
   "nbconvert_exporter": "python",
   "pygments_lexer": "ipython3",
   "version": "3.13.5"
  }
 },
 "nbformat": 4,
 "nbformat_minor": 5
}
